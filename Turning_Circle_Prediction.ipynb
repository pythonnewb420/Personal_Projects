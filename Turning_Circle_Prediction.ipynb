{
  "nbformat": 4,
  "nbformat_minor": 0,
  "metadata": {
    "colab": {
      "name": "Turning Circle Prediction.ipynb",
      "provenance": [],
      "collapsed_sections": [],
      "private_outputs": true,
      "include_colab_link": true
    },
    "kernelspec": {
      "name": "python3",
      "display_name": "Python 3"
    },
    "language_info": {
      "name": "python"
    },
    "accelerator": "TPU"
  },
  "cells": [
    {
      "cell_type": "markdown",
      "metadata": {
        "id": "view-in-github",
        "colab_type": "text"
      },
      "source": [
        "<a href=\"https://colab.research.google.com/github/pythonnewb420/Personal_Projects/blob/main/Turning_Circle_Prediction.ipynb\" target=\"_parent\"><img src=\"https://colab.research.google.com/assets/colab-badge.svg\" alt=\"Open In Colab\"/></a>"
      ]
    },
    {
      "cell_type": "markdown",
      "source": [
        "MIT License\n",
        "\n",
        "Copyright (c) 2019 Wok\n",
        "\n",
        "Permission is hereby granted, free of charge, to any person obtaining a copy\n",
        "of this software and associated documentation files (the \"Software\"), to deal\n",
        "in the Software without restriction, including without limitation the rights\n",
        "to use, copy, modify, merge, publish, distribute, sublicense, and/or sell\n",
        "copies of the Software, and to permit persons to whom the Software is\n",
        "furnished to do so, subject to the following conditions:\n",
        "\n",
        "The above copyright notice and this permission notice shall be included in all\n",
        "copies or substantial portions of the Software.\n",
        "\n",
        "THE SOFTWARE IS PROVIDED \"AS IS\", WITHOUT WARRANTY OF ANY KIND, EXPRESS OR\n",
        "IMPLIED, INCLUDING BUT NOT LIMITED TO THE WARRANTIES OF MERCHANTABILITY,\n",
        "FITNESS FOR A PARTICULAR PURPOSE AND NONINFRINGEMENT. IN NO EVENT SHALL THE\n",
        "AUTHORS OR COPYRIGHT HOLDERS BE LIABLE FOR ANY CLAIM, DAMAGES OR OTHER\n",
        "LIABILITY, WHETHER IN AN ACTION OF CONTRACT, TORT OR OTHERWISE, ARISING FROM,\n",
        "OUT OF OR IN CONNECTION WITH THE SOFTWARE OR THE USE OR OTHER DEALINGS IN THE\n",
        "SOFTWARE.\n"
      ],
      "metadata": {
        "id": "NZ2P0bRNSJah"
      }
    },
    {
      "cell_type": "markdown",
      "source": [
        "First step is to import necessary libraries before executing any code in this notebook"
      ],
      "metadata": {
        "id": "0B0zimjXcQIR"
      }
    },
    {
      "cell_type": "code",
      "execution_count": null,
      "metadata": {
        "id": "GTKze8mJcGDl"
      },
      "outputs": [],
      "source": [
        "import pandas as pd #means the pandas framework will now be useable by calling it \"pd\"\n",
        "import numpy as np #means the pandas framework will now be useable by calling it \"np\"\n",
        "import tensorflow as tf #means the pandas framework will now be useable by calling it \"tf\"\n",
        "from tensorflow import keras\n",
        "from tensorflow.keras import layers\n",
        "import tensorflow.keras.preprocessing\n",
        "from sklearn.model_selection import train_test_split\n",
        "import matplotlib.pyplot as plt"
      ]
    },
    {
      "cell_type": "markdown",
      "source": [
        "After Importing the necessary libraries, we can now import our data (please note that pandas accept .csv format files so that it can convert it into it's own matrix called dataframe, it is similar to an excel file). The code below is to [upload our data to Colab ](https://colab.research.google.com/notebooks/snippets/sheets.ipynb#scrollTo=JiJVCmu3dhFa)"
      ],
      "metadata": {
        "id": "tP0mZdnYgEX4"
      }
    },
    {
      "cell_type": "code",
      "source": [
        "data_kapal = pd.read_csv(\"/content/Hasil_Perhitungan_TCircle_NILAI ONLY.csv\",header=None, error_bad_lines=False)\n",
        "data_kapal.drop(0,axis=1,inplace=True)\n",
        "data_kapal.drop(0,axis=0,inplace=True)\n",
        "display(data_kapal)"
      ],
      "metadata": {
        "id": "769a9JB5ISpJ"
      },
      "execution_count": null,
      "outputs": []
    },
    {
      "cell_type": "code",
      "source": [
        "data_kapal.describe()"
      ],
      "metadata": {
        "id": "51f4IhZBEXUf"
      },
      "execution_count": null,
      "outputs": []
    },
    {
      "cell_type": "code",
      "source": [
        "data_kapal.isnull().any()"
      ],
      "metadata": {
        "id": "XJNVLU-NUqjf"
      },
      "execution_count": null,
      "outputs": []
    },
    {
      "cell_type": "code",
      "source": [
        "data_kapal.dropna(axis=1,how='any')"
      ],
      "metadata": {
        "id": "fmSyAQDrVbXK"
      },
      "execution_count": null,
      "outputs": []
    },
    {
      "cell_type": "markdown",
      "source": [
        "data_kapal.drop(index=data_kapal.index[0],axis=0,inplace=True)\n",
        "data_kapal = data_kapal.apply(pd.to_numeric, errors='coerce')\n",
        "print(data_kapal)"
      ],
      "metadata": {
        "id": "N67bP_o8InLv"
      }
    },
    {
      "cell_type": "code",
      "source": [
        "y = np.array(data_kapal.pop(3),dtype='float32')\n",
        "x = np.array(data_kapal,dtype='float32')\n",
        "print(np.isnan(x.any()))\n",
        "print(np.isnan(y.any()))\n",
        "x_train, x_test, y_train, y_test = train_test_split(x,y,test_size=0.3,shuffle=True)"
      ],
      "metadata": {
        "id": "yOMl36blK0A6"
      },
      "execution_count": null,
      "outputs": []
    },
    {
      "cell_type": "markdown",
      "source": [
        "# Machine Learning Pipeline"
      ],
      "metadata": {
        "id": "JwZtu5eDd0g1"
      }
    },
    {
      "cell_type": "code",
      "source": [
        "lr_schedule = keras.optimizers.schedules.ExponentialDecay(\n",
        "    initial_learning_rate=0.1,\n",
        "    decay_steps=100,\n",
        "    decay_rate=0.6)\n",
        "optimizer = keras.optimizers.SGD(learning_rate=lr_schedule)"
      ],
      "metadata": {
        "id": "8vIl-JZcKanS"
      },
      "execution_count": null,
      "outputs": []
    },
    {
      "cell_type": "code",
      "source": [
        "normalizer = tf.keras.layers.Normalization(axis=-1)\n",
        "normalizer.adapt(x_train)"
      ],
      "metadata": {
        "id": "Z1sCUU2zRwSy"
      },
      "execution_count": null,
      "outputs": []
    },
    {
      "cell_type": "code",
      "source": [
        "model = tf.keras.models.Sequential([\n",
        "    normalizer,\n",
        "    tf.keras.layers.Dense(128, activation='relu',kernel_regularizer='l2'),\n",
        "    tf.keras.layers.Dropout(0.2),\n",
        "    tf.keras.layers.Dense(64, activation='relu'),\n",
        "    tf.keras.layers.Dropout(0.2),\n",
        "    tf.keras.layers.Dense(32, activation='relu'),\n",
        "    tf.keras.layers.Dropout(0.2),\n",
        "    tf.keras.layers.Dense(1,name=\"output\")\n",
        "    ]\n",
        ")\n",
        "model.compile(loss=tf.keras.losses.MeanSquaredLogarithmicError(),\n",
        "              optimizer=optimizer,\n",
        "              metrics=['mae'])"
      ],
      "metadata": {
        "id": "q0P6Eh7edzYx"
      },
      "execution_count": null,
      "outputs": []
    },
    {
      "cell_type": "code",
      "source": [
        "from tensorflow.keras.callbacks import EarlyStopping\n",
        "early_stopping = EarlyStopping(monitor='val_loss',\n",
        "    patience=200,\n",
        "    verbose=0,\n",
        "    mode='auto',\n",
        ")"
      ],
      "metadata": {
        "id": "Gdw6YHb_MS-x"
      },
      "execution_count": null,
      "outputs": []
    },
    {
      "cell_type": "code",
      "source": [
        "model.build(x.shape)\n",
        "model.summary()"
      ],
      "metadata": {
        "id": "rDN03GX6ZAzY"
      },
      "execution_count": null,
      "outputs": []
    },
    {
      "cell_type": "code",
      "source": [
        "%%time\n",
        "history = model.fit(\n",
        "    x_train,y_train,\n",
        "    validation_split = 0.2,\n",
        "    batch_size = 20,\n",
        "    verbose=0, \n",
        "    epochs=3000,\n",
        "    callbacks=[early_stopping])"
      ],
      "metadata": {
        "id": "LbPXHo7GyzaZ"
      },
      "execution_count": null,
      "outputs": []
    },
    {
      "cell_type": "code",
      "source": [
        "hist = pd.DataFrame(history.history)\n",
        "hist['epoch'] = history.epoch\n",
        "hist.tail()"
      ],
      "metadata": {
        "id": "mIZxHVGnrOqo"
      },
      "execution_count": null,
      "outputs": []
    },
    {
      "cell_type": "code",
      "source": [
        "def plot_loss(history):\n",
        "  plt.plot(history.history['loss'], label='loss')\n",
        "  plt.plot(history.history['val_loss'], label='val_loss')\n",
        "  plt.ylim([0, 5])\n",
        "  plt.xlabel('Epoch')\n",
        "  plt.ylabel('Error [Turnin_Circle]')\n",
        "  plt.legend()\n",
        "  plt.grid(True)"
      ],
      "metadata": {
        "id": "Eq_JOjRerJdB"
      },
      "execution_count": null,
      "outputs": []
    },
    {
      "cell_type": "code",
      "source": [
        "plot_loss(history)"
      ],
      "metadata": {
        "id": "gHUXT9A3y01d"
      },
      "execution_count": null,
      "outputs": []
    },
    {
      "cell_type": "code",
      "source": [
        "acc1, mse1 = model.evaluate(x_test, y_test)\n",
        "print(f\"Accuracy is {acc1*100} %,\\nMSE is {mse1}\")"
      ],
      "metadata": {
        "id": "nHW9KDuQS_Db"
      },
      "execution_count": null,
      "outputs": []
    },
    {
      "cell_type": "code",
      "source": [
        "tf.keras.utils.plot_model(model, to_file='model.png', show_shapes=True, show_layer_names=False)"
      ],
      "metadata": {
        "id": "zRNUy8kvtEG8"
      },
      "execution_count": null,
      "outputs": []
    },
    {
      "cell_type": "code",
      "source": [
        "pd.DataFrame(test_results, index=['Mean absolute error [MPG]']).T"
      ],
      "metadata": {
        "id": "X50Os0OzTEIX"
      },
      "execution_count": null,
      "outputs": []
    },
    {
      "cell_type": "code",
      "source": [
        "test_predictions = dnn_model.predict(test_features).flatten()\n",
        "\n",
        "a = plt.axes(aspect='equal')\n",
        "plt.scatter(test_labels, test_predictions)\n",
        "plt.xlabel('True Values [MPG]')\n",
        "plt.ylabel('Predictions [MPG]')\n",
        "lims = [0, 50]\n",
        "plt.xlim(lims)\n",
        "plt.ylim(lims)\n",
        "_ = plt.plot(lims, lims)\n"
      ],
      "metadata": {
        "id": "_1QkjMIqTGmH"
      },
      "execution_count": null,
      "outputs": []
    },
    {
      "cell_type": "code",
      "source": [
        "error = test_predictions - test_labels\n",
        "plt.hist(error, bins=25)\n",
        "plt.xlabel('Prediction Error [MPG]')\n",
        "_ = plt.ylabel('Count')"
      ],
      "metadata": {
        "id": "Y6M4AXP-TJRx"
      },
      "execution_count": null,
      "outputs": []
    },
    {
      "cell_type": "code",
      "source": [
        "model.save('/content/saved_model/Model_Riset')\n",
        "# my_model directory\n",
        "!ls saved_model\n",
        "\n",
        "# Contains an assets folder, saved_model.pb, and variables folder.\n",
        "!ls saved_model/Model_Riset"
      ],
      "metadata": {
        "id": "hvg6CbW-TIED"
      },
      "execution_count": null,
      "outputs": []
    },
    {
      "cell_type": "markdown",
      "source": [
        "To save data into new GSheet"
      ],
      "metadata": {
        "id": "ZLvzbHZ8MBeL"
      }
    },
    {
      "cell_type": "markdown",
      "source": [
        "sh = gc.create('Predicted Hydrodynamics Coefficient')\n",
        "\n",
        "# Open our new sheet and add some data.\n",
        "worksheet = gc.open('Predicted Hydrodynamics Coefficient').sheet1\n",
        "worksheet.update_cells(cell_list)\n",
        "## Go to https://sheets.google.com to see your new spreadsheet."
      ],
      "metadata": {
        "id": "bknO1BY4uWby"
      }
    },
    {
      "cell_type": "code",
      "source": [
        ""
      ],
      "metadata": {
        "id": "IHBH-Z7LhJsT"
      },
      "execution_count": null,
      "outputs": []
    }
  ]
}